{
 "cells": [
  {
   "cell_type": "markdown",
   "id": "cb515521-3edd-45f9-a347-4bc887359577",
   "metadata": {},
   "source": [
    "# Apache Scratch Pad\n"
   ]
  },
  {
   "cell_type": "markdown",
   "id": "a7df4d7c-38a2-47f5-a242-06569cf9bc8b",
   "metadata": {},
   "source": [
    "This notebook will aim to query the Augur DB to access the neccessary information to be able to get the following issue metrics dirived from the GitHub Community Metrics working document https://docs.google.com/document/d/1Yocr6fk0J8EsVZnJwoIl3kRQaI94tI-XHe7VSMFT0yM/edit?usp=sharing"
   ]
  },
  {
   "cell_type": "markdown",
   "id": "4ab707e8-d190-4f73-aa2a-584da08533a6",
   "metadata": {},
   "source": [
    "Any necessary computations from the data to get the metric value will be done as the queries are determined"
   ]
  },
  {
   "cell_type": "code",
   "execution_count": 2,
   "id": "054d86a9-d831-42b6-9db9-de2627438470",
   "metadata": {
    "ExecuteTime": {
     "end_time": "2021-09-16T16:59:16.300600Z",
     "start_time": "2021-09-16T16:59:15.954596Z"
    },
    "tags": [
     "hide-input"
    ]
   },
   "outputs": [],
   "source": [
    "import psycopg2\n",
    "import pandas as pd \n",
    "import sqlalchemy as salc\n",
    "import json\n",
    "import os\n",
    "import numpy as np\n",
    "import matplotlib.pyplot as plt\n",
    "plt.rcParams['figure.figsize'] = (15, 5)\n",
    "import warnings\n",
    "warnings.filterwarnings('ignore')\n",
    "\n",
    "with open(\"../../comm_cage.json\") as config_file:\n",
    "    config = json.load(config_file)"
   ]
  },
  {
   "cell_type": "code",
   "execution_count": 3,
   "id": "efbf5892-3b0f-4cbe-be96-0e24918ce1bd",
   "metadata": {
    "ExecuteTime": {
     "end_time": "2021-09-16T16:59:07.250903Z",
     "start_time": "2021-09-16T16:59:07.222380Z"
    },
    "tags": [
     "hide-input"
    ]
   },
   "outputs": [],
   "source": [
    "database_connection_string = 'postgresql+psycopg2://{}:{}@{}:{}/{}'.format(config['user'], config['password'], config['host'], config['port'], config['database'])\n",
    "\n",
    "dbschema='augur_data'\n",
    "engine = salc.create_engine(\n",
    "    database_connection_string,\n",
    "    connect_args={'options': '-csearch_path={}'.format(dbschema)})"
   ]
  },
  {
   "cell_type": "markdown",
   "id": "47f926af-d71c-4dd8-a3a1-f616d91b82ef",
   "metadata": {},
   "source": [
    "### Query Connection Example"
   ]
  },
  {
   "cell_type": "code",
   "execution_count": 4,
   "id": "02890a5a-5737-406a-bc0a-87210c4e7f54",
   "metadata": {
    "ExecuteTime": {
     "end_time": "2021-09-16T16:59:09.588563Z",
     "start_time": "2021-09-16T16:59:07.252878Z"
    },
    "tags": [
     "hide-output"
    ]
   },
   "outputs": [
    {
     "name": "stdout",
     "output_type": "stream",
     "text": [
      "\n",
      "                 SET SCHEMA 'augur_data';\n",
      "                 SELECT \n",
      "                    b.repo_id\n",
      "                FROM\n",
      "                    repo_groups a,\n",
      "                    repo b\n",
      "                WHERE\n",
      "                    a.repo_group_id = b.repo_group_id AND\n",
      "                    b.repo_name = 'augur'\n",
      "        \n",
      "[36113]\n",
      "36113\n"
     ]
    }
   ],
   "source": [
    "#add your repo name(s) here of the repo(s) you want to query if known (and in the database)\n",
    "repo_name_set = ['augur']\n",
    "repo_set = []\n",
    "repo_ids = []\n",
    "\n",
    "repolist = pd.DataFrame() \n",
    "\n",
    "for repo_name in repo_name_set:\n",
    "    repo_query = salc.sql.text(f\"\"\"\n",
    "                 SET SCHEMA 'augur_data';\n",
    "                 SELECT \n",
    "                    b.repo_id\n",
    "                FROM\n",
    "                    repo_groups a,\n",
    "                    repo b\n",
    "                WHERE\n",
    "                    a.repo_group_id = b.repo_group_id AND\n",
    "                    b.repo_name = \\'{repo_name}\\'\n",
    "        \"\"\")\n",
    "    print(repo_query)\n",
    "\n",
    "    repolist = pd.read_sql(repo_query, con=engine);\n",
    "    d, a = {}, []\n",
    "    for repo in repolist:\n",
    "        # rowproxy.items() returns an array like [(key0, value0), (key1, value1)]\n",
    "        for column, value in repolist.items():\n",
    "            # build up the dictionary\n",
    "            d = {**d, **{column: value}}\n",
    "        #$repo_set.append(d)\n",
    "        repo_ids = repolist['repo_id']\n",
    "\n",
    "    \n",
    "        \n",
    "    #repo_id =t.mappings().all()[0].get('repo_id')\n",
    "    repo_set.append(repolist['repo_id'][0])\n",
    "\n",
    "# repo_set = repolist['repo_id'][0]\n",
    "print(repo_set)\n",
    "print(repolist['repo_id'][0])\n"
   ]
  },
  {
   "cell_type": "code",
   "execution_count": 5,
   "id": "56f86bf1-dd50-48f1-9aa7-52ceaf040251",
   "metadata": {},
   "outputs": [
    {
     "name": "stdout",
     "output_type": "stream",
     "text": [
      "[36113]\n"
     ]
    }
   ],
   "source": [
    "print(repo_set)"
   ]
  },
  {
   "cell_type": "code",
   "execution_count": 6,
   "id": "17e1a57e-53e3-4ef9-89cf-016908db01ce",
   "metadata": {
    "ExecuteTime": {
     "end_time": "2021-09-16T16:59:09.592206Z",
     "start_time": "2021-09-16T16:59:09.590239Z"
    }
   },
   "outputs": [],
   "source": [
    "#Take this out of quotes if you want to manually assign a repo_id number(s)\n",
    "#repo_set = [25440]"
   ]
  },
  {
   "cell_type": "markdown",
   "id": "0676d666-d0ed-45d5-a2c2-23bae240429f",
   "metadata": {},
   "source": [
    "## Example Query for Issue Analysis"
   ]
  },
  {
   "cell_type": "code",
   "execution_count": 7,
   "id": "6f7cc389-be7c-4bce-8b2e-d2df13cdf6e9",
   "metadata": {
    "ExecuteTime": {
     "end_time": "2021-09-16T16:59:11.266061Z",
     "start_time": "2021-09-16T16:59:09.593483Z"
    },
    "tags": [
     "hide-input",
     "hide-output"
    ]
   },
   "outputs": [
    {
     "data": {
      "text/html": [
       "<div>\n",
       "<style scoped>\n",
       "    .dataframe tbody tr th:only-of-type {\n",
       "        vertical-align: middle;\n",
       "    }\n",
       "\n",
       "    .dataframe tbody tr th {\n",
       "        vertical-align: top;\n",
       "    }\n",
       "\n",
       "    .dataframe thead th {\n",
       "        text-align: right;\n",
       "    }\n",
       "</style>\n",
       "<table border=\"1\" class=\"dataframe\">\n",
       "  <thead>\n",
       "    <tr style=\"text-align: right;\">\n",
       "      <th></th>\n",
       "      <th>repo_name</th>\n",
       "      <th>issue</th>\n",
       "      <th>issue_number</th>\n",
       "      <th>gh_issue</th>\n",
       "      <th>created</th>\n",
       "      <th>closed</th>\n",
       "    </tr>\n",
       "  </thead>\n",
       "  <tbody>\n",
       "    <tr>\n",
       "      <th>0</th>\n",
       "      <td>augur</td>\n",
       "      <td>91116</td>\n",
       "      <td>1525</td>\n",
       "      <td>1063293122</td>\n",
       "      <td>2021-11-25 08:33:28</td>\n",
       "      <td>NaT</td>\n",
       "    </tr>\n",
       "    <tr>\n",
       "      <th>1</th>\n",
       "      <td>augur</td>\n",
       "      <td>91121</td>\n",
       "      <td>1518</td>\n",
       "      <td>1055344486</td>\n",
       "      <td>2021-11-16 21:21:05</td>\n",
       "      <td>NaT</td>\n",
       "    </tr>\n",
       "    <tr>\n",
       "      <th>2</th>\n",
       "      <td>augur</td>\n",
       "      <td>91125</td>\n",
       "      <td>1514</td>\n",
       "      <td>1052511565</td>\n",
       "      <td>2021-11-13 01:32:55</td>\n",
       "      <td>NaT</td>\n",
       "    </tr>\n",
       "    <tr>\n",
       "      <th>3</th>\n",
       "      <td>augur</td>\n",
       "      <td>91128</td>\n",
       "      <td>1510</td>\n",
       "      <td>1041280595</td>\n",
       "      <td>2021-11-01 15:09:06</td>\n",
       "      <td>NaT</td>\n",
       "    </tr>\n",
       "    <tr>\n",
       "      <th>4</th>\n",
       "      <td>augur</td>\n",
       "      <td>91136</td>\n",
       "      <td>1495</td>\n",
       "      <td>1027800478</td>\n",
       "      <td>2021-10-15 20:55:07</td>\n",
       "      <td>NaT</td>\n",
       "    </tr>\n",
       "  </tbody>\n",
       "</table>\n",
       "</div>"
      ],
      "text/plain": [
       "  repo_name  issue  issue_number    gh_issue             created closed\n",
       "0     augur  91116          1525  1063293122 2021-11-25 08:33:28    NaT\n",
       "1     augur  91121          1518  1055344486 2021-11-16 21:21:05    NaT\n",
       "2     augur  91125          1514  1052511565 2021-11-13 01:32:55    NaT\n",
       "3     augur  91128          1510  1041280595 2021-11-01 15:09:06    NaT\n",
       "4     augur  91136          1495  1027800478 2021-10-15 20:55:07    NaT"
      ]
     },
     "execution_count": 7,
     "metadata": {},
     "output_type": "execute_result"
    }
   ],
   "source": [
    "df_issues = pd.DataFrame()\n",
    "\n",
    "for repo_id in repo_set: \n",
    "\n",
    "    pr_query = salc.sql.text(f\"\"\"\n",
    "                SELECT\n",
    "                    r.repo_name,\n",
    "\t\t\t\t\ti.issue_id AS issue, \n",
    "\t\t\t\t\ti.gh_issue_number AS issue_number,\n",
    "\t\t\t\t\ti.gh_issue_id AS gh_issue,\n",
    "\t\t\t\t\ti.created_at AS created, \n",
    "\t\t\t\t\ti.closed_at AS closed\n",
    "                FROM\n",
    "                \trepo r,\n",
    "                    issues i\n",
    "                WHERE\n",
    "                \tr.repo_id = i.repo_id AND\n",
    "                    i.repo_id = \\'{repo_id}\\'\n",
    "        \"\"\")\n",
    "    df_current_repo = pd.read_sql(pr_query, con=engine)\n",
    "    df_issues = pd.concat([df_issues, df_current_repo])\n",
    "\n",
    "df_issues = df_issues.reset_index()\n",
    "df_issues.drop(\"index\", axis=1, inplace=True)\n",
    "        \n",
    "df_issues.head()"
   ]
  },
  {
   "cell_type": "markdown",
   "id": "2e1e2d6e-2936-49fd-bb95-042a6a8521aa",
   "metadata": {},
   "source": [
    "# Apache Metadata Queries"
   ]
  },
  {
   "cell_type": "code",
   "execution_count": 8,
   "id": "e94d6875-53a1-49ea-b4dc-e721801128f6",
   "metadata": {},
   "outputs": [],
   "source": [
    "repository_list = pd.DataFrame()\n",
    "pull_requests = pd.DataFrame()\n",
    "commits = pd.DataFrame()\n",
    "issues = pd.DataFrame()\n",
    "contributors = pd.DataFrame()\n",
    "\n",
    "repository_list_SQL = salc.sql.text(f\"\"\"\n",
    "        select repo.repo_id, repo_git from repo\n",
    "        where repo_git like '%apache%';\n",
    "    \"\"\")\n",
    "\n",
    "pull_requests_SQL = salc.sql.text(f\"\"\"\n",
    "        select repo.repo_id, repo_git, count(*) from repo, pull_requests \n",
    "        where repo_git like '%apache%'\n",
    "        and \n",
    "        repo.repo_id = pull_requests.repo_id\n",
    "        group by repo.repo_id, repo_git; \n",
    "    \"\"\")\n",
    "\n",
    "commits_SQL = salc.sql.text(f\"\"\"\n",
    "        select repo.repo_id, repo_git, count(*) from repo, commits \n",
    "        where repo_git like '%apache%'\n",
    "        and \n",
    "        repo.repo_id = commits.repo_id\n",
    "        group by repo.repo_id, repo_git; \n",
    "    \"\"\")\n",
    "\n",
    "issues_SQL = salc.sql.text(f\"\"\"\n",
    "        select repo.repo_id, repo_git, count(*) from repo, issues \n",
    "        where repo_git like '%apache%'\n",
    "        and \n",
    "        repo.repo_id = issues.repo_id\n",
    "        group by repo.repo_id, repo_git; \n",
    "            \"\"\")\n",
    "\n",
    "contributors_SQL = salc.sql.text(f\"\"\"\n",
    "        select distinct * from (\n",
    "        select distinct a.cntrb_id as cntrb_id, a.alias_email as email FROM\n",
    "        (\n",
    "        select contributors.cntrb_id, alias_email from contributors, contributors_aliases where (contributors.cntrb_canonical like '%redhat.com%' or \n",
    "        contributors_aliases.alias_email like '%redhat.com%') \n",
    "        and contributors.cntrb_id = contributors_aliases.cntrb_id\n",
    "        ) a\n",
    "        UNION\n",
    "        select cntrb_id as cntrb_id, cntrb_canonical as email \n",
    "        from contributors where cntrb_canonical like '%redhat.com%' ) b;\n",
    "    \"\"\")\n",
    "\n",
    "\n",
    "repository_list = pd.read_sql(repository_list_SQL, con=engine)\n",
    "pull_requests = pd.read_sql(pull_requests_SQL, con=engine)\n",
    "commits = pd.read_sql(commits_SQL, con=engine)\n",
    "issues = pd.read_sql(issues_SQL, con=engine)\n",
    "contributors = pd.read_sql(contributors_SQL, con=engine)\n"
   ]
  },
  {
   "cell_type": "code",
   "execution_count": 9,
   "id": "c1f265f3-d5ca-4751-b3b4-9cc97a4d51ee",
   "metadata": {},
   "outputs": [
    {
     "name": "stdout",
     "output_type": "stream",
     "text": [
      "      repo_id                                           repo_git\n",
      "0       30260    https://github.com/apache/turbine-fulcrum-build\n",
      "1       29994               https://github.com/apache/unomi-site\n",
      "2       28779    https://github.com/apache/couchdb-erlang-bcrypt\n",
      "3       28765  https://github.com/apache/fineract-cn-stellar-...\n",
      "4       29974                 https://github.com/apache/dubbo-js\n",
      "...       ...                                                ...\n",
      "2265    30319  https://github.com/apache/sling-org-apache-sli...\n",
      "2266    29345                 https://github.com/apache/ws-woden\n",
      "2267    29669     https://github.com/apache/fineract-cn-template\n",
      "2268    30525               https://github.com/apache/cloudstack\n",
      "2269    30347     https://github.com/apache/incubator-mxnet-site\n",
      "\n",
      "[2270 rows x 2 columns]\n"
     ]
    }
   ],
   "source": [
    "print(repository_list)"
   ]
  },
  {
   "cell_type": "code",
   "execution_count": 10,
   "id": "bf29c3d1-8d9e-4e2e-9425-0968ef14548b",
   "metadata": {},
   "outputs": [
    {
     "name": "stdout",
     "output_type": "stream",
     "text": [
      "      repo_id                                           repo_git  count\n",
      "0       28445          https://github.com/apache/ofbiz-framework    441\n",
      "1       28447       https://github.com/apache/incubator-hivemall    238\n",
      "2       28449  https://github.com/apache/incubator-flagon-use...    140\n",
      "3       28451             https://github.com/apache/fluo-website    177\n",
      "4       28453           https://github.com/apache/couchdb-erlfdb     37\n",
      "...       ...                                                ...    ...\n",
      "1345    30706                     https://github.com/apache/solr    419\n",
      "1346    30707             https://github.com/apache/commons-bcel    108\n",
      "1347    30708       https://github.com/apache/myfaces-master-pom     34\n",
      "1348    30710        https://github.com/apache/geronimo-jwt-auth      4\n",
      "1349    30711       https://github.com/apache/calcite-avatica-go     54\n",
      "\n",
      "[1350 rows x 3 columns]\n"
     ]
    }
   ],
   "source": [
    "print(pull_requests)"
   ]
  },
  {
   "cell_type": "code",
   "execution_count": 11,
   "id": "5a9c337f-7e68-4fdc-a37b-d19facec0655",
   "metadata": {},
   "outputs": [
    {
     "name": "stdout",
     "output_type": "stream",
     "text": [
      "    repo_id                                           repo_git  count\n",
      "0     28498   https://github.com/apache/maven-changelog-plugin    620\n",
      "1     28515      https://github.com/apache/servicecomb-samples   1584\n",
      "2     28536  https://github.com/apache/manifoldcf-integrati...    159\n",
      "3     28548          https://github.com/apache/incubator-doris  43866\n",
      "4     28601                 https://github.com/apache/sandesha   5219\n",
      "..      ...                                                ...    ...\n",
      "77    30555                https://github.com/apache/zookeeper  17836\n",
      "78    30619  https://github.com/apache/sling-org-apache-sli...    308\n",
      "79    30647  https://github.com/apache/sling-org-apache-sli...     49\n",
      "80    30666               https://github.com/apache/maven-site   7558\n",
      "81    30693                 https://github.com/apache/libcloud  24308\n",
      "\n",
      "[82 rows x 3 columns]\n"
     ]
    }
   ],
   "source": [
    "print(commits)"
   ]
  },
  {
   "cell_type": "code",
   "execution_count": 12,
   "id": "525d92c3-4257-42b8-b286-cdabb0fcc34e",
   "metadata": {},
   "outputs": [
    {
     "name": "stdout",
     "output_type": "stream",
     "text": [
      "      repo_id                                           repo_git  count\n",
      "0       28445          https://github.com/apache/ofbiz-framework    438\n",
      "1       28447       https://github.com/apache/incubator-hivemall    245\n",
      "2       28449  https://github.com/apache/incubator-flagon-use...    203\n",
      "3       28450              https://github.com/apache/ode-console      1\n",
      "4       28451             https://github.com/apache/fluo-website    213\n",
      "...       ...                                                ...    ...\n",
      "1683    30707             https://github.com/apache/commons-bcel    113\n",
      "1684    30708       https://github.com/apache/myfaces-master-pom     38\n",
      "1685    30709                    https://github.com/apache/derby      7\n",
      "1686    30710        https://github.com/apache/geronimo-jwt-auth      6\n",
      "1687    30711       https://github.com/apache/calcite-avatica-go     55\n",
      "\n",
      "[1688 rows x 3 columns]\n"
     ]
    }
   ],
   "source": [
    "print(issues)"
   ]
  },
  {
   "cell_type": "code",
   "execution_count": 13,
   "id": "a5c27fff-f7e1-4c9c-a298-64d3094aebcb",
   "metadata": {},
   "outputs": [
    {
     "name": "stdout",
     "output_type": "stream",
     "text": [
      "      cntrb_id                         email\n",
      "0        25433       hema.veeradhi@gmail.com\n",
      "1        25433           hveeradh@redhat.com\n",
      "2        25434             kachau@redhat.com\n",
      "3        25435  mcliffor@mcliffor.remote.csb\n",
      "4        25435           mcliffor@redhat.com\n",
      "...        ...                           ...\n",
      "2542   2424541            prsurve@redhat.com\n",
      "2543   2425751               vdas@redhat.com\n",
      "2544   2425777             harold@redhat.com\n",
      "2545   2426346              yrabl@redhat.com\n",
      "2546   2451295              tgeer@redhat.com\n",
      "\n",
      "[2547 rows x 2 columns]\n"
     ]
    }
   ],
   "source": [
    "print(contributors)"
   ]
  },
  {
   "cell_type": "markdown",
   "id": "dfeb025a-40cd-4256-b90c-d78a8f697ce6",
   "metadata": {},
   "source": [
    "## Red Hat Analysis Notes: 43 Repository Sample\n",
    "1. How many unique RH'ers are contributing to the represented apache projects. Output the unique cntrb_ids for each RH'er. Count them. Look at total contributors. \n",
    "2. Percentage of commits (possibly LOC) from RH'ers.\n",
    "3. Percentage of contributors.\n",
    "4. Percentage of LOC.\n",
    "5. Illustrate SBOM's\n",
    "6. Illustrate Dependencies\n"
   ]
  },
  {
   "cell_type": "code",
   "execution_count": 14,
   "id": "6eee96bd-c12a-442c-8fa2-b0644359df50",
   "metadata": {},
   "outputs": [
    {
     "name": "stdout",
     "output_type": "stream",
     "text": [
      "    repo_id  repo_group_id                                           repo_git  \\\n",
      "0     30666          25478               https://github.com/apache/maven-site   \n",
      "1     30555          25478                https://github.com/apache/zookeeper   \n",
      "2     29753          25478                  https://github.com/apache/ant-ivy   \n",
      "3     29742          25478                 https://github.com/apache/activemq   \n",
      "4     30693          25478                 https://github.com/apache/libcloud   \n",
      "..      ...            ...                                                ...   \n",
      "77    30285          25478  https://github.com/apache/netbeans-mavenutils-...   \n",
      "78    28515          25478      https://github.com/apache/servicecomb-samples   \n",
      "79    28536          25478  https://github.com/apache/manifoldcf-integrati...   \n",
      "80    28548          25478          https://github.com/apache/incubator-doris   \n",
      "81    28601          25478                 https://github.com/apache/sandesha   \n",
      "\n",
      "             repo_path                                     repo_name  \\\n",
      "0   github.com/apache/                                    maven-site   \n",
      "1   github.com/apache/                                     zookeeper   \n",
      "2   github.com/apache/                                       ant-ivy   \n",
      "3   github.com/apache/                                      activemq   \n",
      "4   github.com/apache/                                      libcloud   \n",
      "..                 ...                                           ...   \n",
      "77  github.com/apache/  netbeans-mavenutils-archetype-nbm-suite-root   \n",
      "78  github.com/apache/                           servicecomb-samples   \n",
      "79  github.com/apache/        manifoldcf-integration-sharepoint-2016   \n",
      "80  github.com/apache/                               incubator-doris   \n",
      "81  github.com/apache/                                      sandesha   \n",
      "\n",
      "            repo_added repo_status repo_type   url owner_id  ...  \\\n",
      "0  2021-10-18 16:22:00    Complete      None  None     None  ...   \n",
      "1  2021-10-18 16:21:59    Complete      None  None     None  ...   \n",
      "2  2021-10-18 16:21:55     Analyze      None  None     None  ...   \n",
      "3  2021-10-18 16:21:55     Analyze      None  None     None  ...   \n",
      "4  2021-10-18 16:22:00    Complete      None  None     None  ...   \n",
      "..                 ...         ...       ...   ...      ...  ...   \n",
      "77 2021-10-18 16:21:58    Complete      None  None     None  ...   \n",
      "78 2021-10-18 16:21:48    Complete      None  None     None  ...   \n",
      "79 2021-10-18 16:21:48    Complete      None  None     None  ...   \n",
      "80 2021-10-18 16:21:48    Complete      None  None     None  ...   \n",
      "81 2021-10-18 16:21:49     Analyze      None  None     None  ...   \n",
      "\n",
      "   rh_whitespace all_repos_id all_commits all_added all_deleted  \\\n",
      "0            0.0        30666        7558    149503       88847   \n",
      "1            0.0        30555       17836    493581      261901   \n",
      "2            1.0        29753       22607    577821      247877   \n",
      "3          214.0        29742       71242   1678682      985522   \n",
      "4          123.0        30693       24308   1359881      731499   \n",
      "..           ...          ...         ...       ...         ...   \n",
      "77           NaN        30285        2344     41528       44321   \n",
      "78           NaN        28515        1584     25598       11720   \n",
      "79           NaN        28536         159      3603        1768   \n",
      "80           NaN        28548       43866   1407100      569388   \n",
      "81           NaN        28601        5219    128129      108034   \n",
      "\n",
      "   all_whitespace  commit_pct added_pct deleted_pct whitespace_pct  \n",
      "0           28856    0.000132  0.000033    0.000045       0.000000  \n",
      "1           95630    0.000112  0.000010    0.000019       0.000000  \n",
      "2          147440    0.000088  0.000016    0.000008       0.000007  \n",
      "3          368912    0.000646  0.000715    0.000054       0.000580  \n",
      "4          117905    0.005718  0.000598    0.000521       0.001043  \n",
      "..            ...         ...       ...         ...            ...  \n",
      "77           4018         NaN       NaN         NaN            NaN  \n",
      "78           3503         NaN       NaN         NaN            NaN  \n",
      "79            747         NaN       NaN         NaN            NaN  \n",
      "80         241691         NaN       NaN         NaN            NaN  \n",
      "81          55336         NaN       NaN         NaN            NaN  \n",
      "\n",
      "[82 rows x 35 columns]\n"
     ]
    }
   ],
   "source": [
    "rh_commits = pd.DataFrame()\n",
    "repository_list = pd.DataFrame()\n",
    "\n",
    "repository_list_SQL = salc.sql.text(f\"\"\"\n",
    "        select repo.repo_id, repo_git from repo\n",
    "        where repo_git like '%apache%';\n",
    "    \"\"\")\n",
    "\n",
    "rh_commits_SQL = salc.sql.text(f\"\"\"\n",
    "        SELECT\n",
    "            * \n",
    "        FROM\n",
    "            (\n",
    "            SELECT\n",
    "                * \n",
    "            FROM\n",
    "                (\n",
    "                    ( SELECT * FROM repo WHERE repo_git LIKE'%apache%' ) repo\n",
    "                    LEFT JOIN (\n",
    "                    SELECT\n",
    "                        RH.*,\n",
    "                        committer.*,\n",
    "                        ( RH.RH_commits :: DECIMAL / ( committer.all_commits + 1 ) :: DECIMAL ) :: DECIMAL AS commit_pct,\n",
    "                        ( RH.RH_added :: DECIMAL / ( committer.all_added + 1 ) :: DECIMAL ) :: DECIMAL AS added_pct,\n",
    "                        ( RH.RH_deleted :: DECIMAL / ( committer.all_deleted + 1 ) :: DECIMAL ) :: DECIMAL AS deleted_pct,\n",
    "                        ( RH.RH_whitespace :: DECIMAL / ( committer.all_whitespace + 1 ) :: DECIMAL ) :: DECIMAL AS whitespace_pct \n",
    "                    FROM\n",
    "                        (\n",
    "                        SELECT\n",
    "                            b.repo_id AS all_repos_id,\n",
    "                            COUNT ( C.cmt_id ) AS all_commits,\n",
    "                            SUM ( C.cmt_added ) AS all_added,\n",
    "                            SUM ( C.cmt_removed ) AS all_deleted,\n",
    "                            SUM ( C.cmt_whitespace ) AS all_whitespace \n",
    "                        FROM\n",
    "                            repo_groups A,\n",
    "                            repo b,\n",
    "                            commits C \n",
    "                        WHERE\n",
    "                            A.repo_group_id = b.repo_group_id \n",
    "                            AND b.repo_id = C.repo_id \n",
    "                            AND C.cmt_id IS NOT NULL \n",
    "                            AND C.cmt_added IS NOT NULL \n",
    "                            AND C.cmt_removed IS NOT NULL \n",
    "                            AND C.cmt_whitespace IS NOT NULL \n",
    "                            AND b.repo_git LIKE'%apache%' \n",
    "                        GROUP BY\n",
    "                            A.repo_group_id,\n",
    "                            b.repo_id \n",
    "                        ORDER BY\n",
    "                            A.repo_group_id,\n",
    "                            b.repo_id \n",
    "                        ) committer\n",
    "                        LEFT JOIN (\n",
    "                        SELECT\n",
    "                            b.repo_id AS RH_repos_id,\n",
    "                            COUNT ( C.cmt_id ) AS RH_commits,\n",
    "                            SUM ( C.cmt_added ) AS RH_added,\n",
    "                            SUM ( C.cmt_removed ) AS RH_deleted,\n",
    "                            SUM ( C.cmt_whitespace ) AS RH_whitespace \n",
    "                        FROM\n",
    "                            repo_groups A,\n",
    "                            repo b,\n",
    "                            commits C \n",
    "                        WHERE\n",
    "                            b.repo_git LIKE'%apache%' \n",
    "                            AND A.repo_group_id = b.repo_group_id \n",
    "                            AND b.repo_id = C.repo_id \n",
    "                            AND (\n",
    "                                C.cmt_author_email IN (\n",
    "                                SELECT DISTINCT\n",
    "                                    email \n",
    "                                FROM\n",
    "                                    (\n",
    "                                    SELECT DISTINCT A\n",
    "                                        .cntrb_id AS cntrb_id,\n",
    "                                        A.alias_email AS email \n",
    "                                    FROM\n",
    "                                        (\n",
    "                                        SELECT\n",
    "                                            contributors.cntrb_id,\n",
    "                                            alias_email \n",
    "                                        FROM\n",
    "                                            contributors,\n",
    "                                            contributors_aliases \n",
    "                                        WHERE\n",
    "                                            ( contributors.cntrb_canonical LIKE'%redhat.com%' OR contributors_aliases.alias_email LIKE'%redhat.com%' ) \n",
    "                                            AND contributors.cntrb_id = contributors_aliases.cntrb_id \n",
    "                                        ) A UNION\n",
    "                                    SELECT\n",
    "                                        cntrb_id AS cntrb_id,\n",
    "                                        cntrb_canonical AS email \n",
    "                                    FROM\n",
    "                                        contributors \n",
    "                                    WHERE\n",
    "                                        cntrb_canonical LIKE'%redhat.com%' \n",
    "                                    ) b \n",
    "                                ) or (C.cmt_author_email LIKE'%redhat.com')\n",
    "                            ) \n",
    "                        GROUP BY\n",
    "                            A.repo_group_id,\n",
    "                            b.repo_id \n",
    "                        ORDER BY\n",
    "                            A.repo_group_id,\n",
    "                            b.repo_id \n",
    "                        ) RH ON committer.all_repos_id = RH.RH_repos_id \n",
    "                    ORDER BY\n",
    "                        committer.all_repos_id,\n",
    "                        RH.RH_repos_id \n",
    "                    ) allcommits ON repo.repo_id = allcommits.all_repos_id \n",
    "                ) pdd \n",
    "            ORDER BY\n",
    "                commit_pct DESC \n",
    "            ) b \n",
    "        WHERE\n",
    "            b.all_commits IS NOT NULL\n",
    "            order by rh_commits nulls last; \n",
    "\n",
    "    \"\"\")\n",
    "\n",
    "rh_commits = pd.read_sql(rh_commits_SQL, con=engine)\n",
    "\n",
    "repository_list = pd.read_sql(repository_list_SQL, con=engine)\n",
    "\n",
    "print(rh_commits)\n"
   ]
  },
  {
   "cell_type": "code",
   "execution_count": null,
   "id": "fe499059-1251-4d35-99be-b8aa71fbc5b0",
   "metadata": {},
   "outputs": [],
   "source": []
  }
 ],
 "metadata": {
  "kernelspec": {
   "display_name": "Python 3 (ipykernel)",
   "language": "python",
   "name": "python3"
  },
  "language_info": {
   "codemirror_mode": {
    "name": "ipython",
    "version": 3
   },
   "file_extension": ".py",
   "mimetype": "text/x-python",
   "name": "python",
   "nbconvert_exporter": "python",
   "pygments_lexer": "ipython3",
   "version": "3.9.7"
  },
  "toc": {
   "base_numbering": 1,
   "nav_menu": {},
   "number_sections": true,
   "sideBar": true,
   "skip_h1_title": false,
   "title_cell": "Table of Contents",
   "title_sidebar": "Contents",
   "toc_cell": false,
   "toc_position": {},
   "toc_section_display": true,
   "toc_window_display": false
  }
 },
 "nbformat": 4,
 "nbformat_minor": 5
}
