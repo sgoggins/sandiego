{
 "cells": [
  {
   "cell_type": "markdown",
   "id": "459bfd1f",
   "metadata": {},
   "source": [
    "# Welcoming Metrics Model (The Elizabeth Model)\n"
   ]
  },
  {
   "cell_type": "markdown",
   "id": "db7fbc2c",
   "metadata": {},
   "source": [
    "# Activity:\n",
    "- Issue Age: https://chaoss.community/metric-issue-age/\n",
    "- Issue Response Time: https://chaoss.community/metric-issue-response-time/\n",
    "- Time to First Response https://chaoss.community/metric-time-to-first-response/ https://chaoss.community/metric-issue-resolution-duration\n",
    "\n",
    "# Community Culture\n",
    "- Code of Conduct: https://chaoss.community/metric-code-of-conduct/\n",
    "- Inclusive Leadership: https://chaoss.community/metric-inclusive-leadership/ \n",
    "\n",
    "# Licensing:\n",
    "- License Coverage https://chaoss.community/metric-license-coverage/\n",
    "- License Declared https://chaoss.community/metric-license-declared/ \n",
    "\n",
    "# Stability:\n",
    "- CII Best Practices Badge https://chaoss.community/metric-cii-best-practices-badge/\n",
    "- Test Coverage: https://chaoss.community/metric-test-coverage/\n",
    "- Bus Factor: https://chaoss.community/metric-bus-factor/\n",
    "- Committers: https://chaoss.community/metric-committers/\n",
    "- Elephant Factor: https://chaoss.community/metric-elephant-factor/\n",
    "\n",
    "# Code\n",
    "- New contributors\n",
    "- Change request acceptance rates"
   ]
  },
  {
   "cell_type": "code",
   "execution_count": 1,
   "id": "8c35b00a",
   "metadata": {
    "colab": {
     "base_uri": "https://localhost:8080/"
    },
    "id": "78181537-387b-4560-96aa-03b21edd81e6",
    "outputId": "9fd18ecd-8fcc-4f2b-9391-5578d863cbcb"
   },
   "outputs": [],
   "source": [
    "import requests\n",
    "import json\n",
    "from IPython.display import Image, display\n",
    "from IPython.display import HTML as html_print\n",
    "import requests\n",
    "import pandas as pd\n",
    "from datetime import datetime, timedelta\n",
    "from matplotlib import pyplot as plt\n",
    "from matplotlib import dates as mpl_dates\n",
    "from matplotlib.pyplot import figure\n",
    "\n",
    "import pandas as pd\n",
    "from datetime import datetime, timedelta\n",
    "from matplotlib import pyplot as plt\n",
    "from matplotlib import dates as mpl_dates\n",
    "from requests import request\n",
    "\n",
    "r = requests.get('http://chaoss.tv/api/unstable/repos/29290/issues-closed-resolution-duration')\n",
    "# r.json()"
   ]
  },
  {
   "cell_type": "markdown",
   "id": "d2814241",
   "metadata": {},
   "source": [
    "## Activity"
   ]
  },
  {
   "cell_type": "code",
   "execution_count": 2,
   "id": "5a1ca53a",
   "metadata": {
    "colab": {
     "base_uri": "https://localhost:8080/"
    },
    "id": "f2ff2b24-18c4-4ccf-b7c8-0fb461d5f993",
    "outputId": "c6019ec8-e20e-401f-e653-a4d4d4bd99d4"
   },
   "outputs": [],
   "source": [
    "import requests\n",
    "r = requests.get('http://chaoss.tv/api/unstable/repos/29290/issue-throughput')\n",
    "# r.json()\n"
   ]
  },
  {
   "cell_type": "code",
   "execution_count": 3,
   "id": "81e2f1eb",
   "metadata": {
    "colab": {
     "base_uri": "https://localhost:8080/"
    },
    "id": "46144df9-ed1d-4c4c-96b7-c940e690ebbb",
    "outputId": "5d5e04da-995c-4541-e34d-1a7cea6deefc"
   },
   "outputs": [
    {
     "name": "stdout",
     "output_type": "stream",
     "text": [
      "<Response [502]>\n"
     ]
    },
    {
     "ename": "JSONDecodeError",
     "evalue": "Expecting value: line 1 column 1 (char 0)",
     "output_type": "error",
     "traceback": [
      "\u001b[0;31m---------------------------------------------------------------------------\u001b[0m",
      "\u001b[0;31mJSONDecodeError\u001b[0m                           Traceback (most recent call last)",
      "\u001b[0;32m/var/folders/0m/97m1z7311018x44_pzqchyxc0000gp/T/ipykernel_15389/2243271622.py\u001b[0m in \u001b[0;36m<module>\u001b[0;34m\u001b[0m\n\u001b[1;32m      6\u001b[0m \u001b[0mr\u001b[0m\u001b[0;34m=\u001b[0m\u001b[0mrequest\u001b[0m\u001b[0;34m(\u001b[0m\u001b[0murl\u001b[0m\u001b[0;34m=\u001b[0m\u001b[0;34m'http://chaoss.tv/api/unstable/repos/29290/issues-closed-resolution-duration'\u001b[0m\u001b[0;34m,\u001b[0m \u001b[0mmethod\u001b[0m\u001b[0;34m=\u001b[0m\u001b[0;34m'get'\u001b[0m\u001b[0;34m)\u001b[0m\u001b[0;34m\u001b[0m\u001b[0;34m\u001b[0m\u001b[0m\n\u001b[1;32m      7\u001b[0m \u001b[0mprint\u001b[0m\u001b[0;34m(\u001b[0m\u001b[0mr\u001b[0m\u001b[0;34m)\u001b[0m\u001b[0;34m\u001b[0m\u001b[0;34m\u001b[0m\u001b[0m\n\u001b[0;32m----> 8\u001b[0;31m \u001b[0me\u001b[0m \u001b[0;34m=\u001b[0m \u001b[0mr\u001b[0m\u001b[0;34m.\u001b[0m\u001b[0mjson\u001b[0m\u001b[0;34m(\u001b[0m\u001b[0;34m)\u001b[0m\u001b[0;34m\u001b[0m\u001b[0;34m\u001b[0m\u001b[0m\n\u001b[0m\u001b[1;32m      9\u001b[0m \u001b[0mprint\u001b[0m\u001b[0;34m(\u001b[0m\u001b[0me\u001b[0m\u001b[0;34m)\u001b[0m\u001b[0;34m\u001b[0m\u001b[0;34m\u001b[0m\u001b[0m\n\u001b[1;32m     10\u001b[0m \u001b[0mdata\u001b[0m\u001b[0;34m=\u001b[0m\u001b[0;34m[\u001b[0m\u001b[0;34m]\u001b[0m\u001b[0;34m\u001b[0m\u001b[0;34m\u001b[0m\u001b[0m\n",
      "\u001b[0;32m~/github/virtualenvs/sandiego/lib/python3.9/site-packages/requests/models.py\u001b[0m in \u001b[0;36mjson\u001b[0;34m(self, **kwargs)\u001b[0m\n\u001b[1;32m    895\u001b[0m                     \u001b[0;31m# used.\u001b[0m\u001b[0;34m\u001b[0m\u001b[0;34m\u001b[0m\u001b[0m\n\u001b[1;32m    896\u001b[0m                     \u001b[0;32mpass\u001b[0m\u001b[0;34m\u001b[0m\u001b[0;34m\u001b[0m\u001b[0m\n\u001b[0;32m--> 897\u001b[0;31m         \u001b[0;32mreturn\u001b[0m \u001b[0mcomplexjson\u001b[0m\u001b[0;34m.\u001b[0m\u001b[0mloads\u001b[0m\u001b[0;34m(\u001b[0m\u001b[0mself\u001b[0m\u001b[0;34m.\u001b[0m\u001b[0mtext\u001b[0m\u001b[0;34m,\u001b[0m \u001b[0;34m**\u001b[0m\u001b[0mkwargs\u001b[0m\u001b[0;34m)\u001b[0m\u001b[0;34m\u001b[0m\u001b[0;34m\u001b[0m\u001b[0m\n\u001b[0m\u001b[1;32m    898\u001b[0m \u001b[0;34m\u001b[0m\u001b[0m\n\u001b[1;32m    899\u001b[0m     \u001b[0;34m@\u001b[0m\u001b[0mproperty\u001b[0m\u001b[0;34m\u001b[0m\u001b[0;34m\u001b[0m\u001b[0m\n",
      "\u001b[0;32m/usr/local/Cellar/python@3.9/3.9.7_1/Frameworks/Python.framework/Versions/3.9/lib/python3.9/json/__init__.py\u001b[0m in \u001b[0;36mloads\u001b[0;34m(s, cls, object_hook, parse_float, parse_int, parse_constant, object_pairs_hook, **kw)\u001b[0m\n\u001b[1;32m    344\u001b[0m             \u001b[0mparse_int\u001b[0m \u001b[0;32mis\u001b[0m \u001b[0;32mNone\u001b[0m \u001b[0;32mand\u001b[0m \u001b[0mparse_float\u001b[0m \u001b[0;32mis\u001b[0m \u001b[0;32mNone\u001b[0m \u001b[0;32mand\u001b[0m\u001b[0;34m\u001b[0m\u001b[0;34m\u001b[0m\u001b[0m\n\u001b[1;32m    345\u001b[0m             parse_constant is None and object_pairs_hook is None and not kw):\n\u001b[0;32m--> 346\u001b[0;31m         \u001b[0;32mreturn\u001b[0m \u001b[0m_default_decoder\u001b[0m\u001b[0;34m.\u001b[0m\u001b[0mdecode\u001b[0m\u001b[0;34m(\u001b[0m\u001b[0ms\u001b[0m\u001b[0;34m)\u001b[0m\u001b[0;34m\u001b[0m\u001b[0;34m\u001b[0m\u001b[0m\n\u001b[0m\u001b[1;32m    347\u001b[0m     \u001b[0;32mif\u001b[0m \u001b[0mcls\u001b[0m \u001b[0;32mis\u001b[0m \u001b[0;32mNone\u001b[0m\u001b[0;34m:\u001b[0m\u001b[0;34m\u001b[0m\u001b[0;34m\u001b[0m\u001b[0m\n\u001b[1;32m    348\u001b[0m         \u001b[0mcls\u001b[0m \u001b[0;34m=\u001b[0m \u001b[0mJSONDecoder\u001b[0m\u001b[0;34m\u001b[0m\u001b[0;34m\u001b[0m\u001b[0m\n",
      "\u001b[0;32m/usr/local/Cellar/python@3.9/3.9.7_1/Frameworks/Python.framework/Versions/3.9/lib/python3.9/json/decoder.py\u001b[0m in \u001b[0;36mdecode\u001b[0;34m(self, s, _w)\u001b[0m\n\u001b[1;32m    335\u001b[0m \u001b[0;34m\u001b[0m\u001b[0m\n\u001b[1;32m    336\u001b[0m         \"\"\"\n\u001b[0;32m--> 337\u001b[0;31m         \u001b[0mobj\u001b[0m\u001b[0;34m,\u001b[0m \u001b[0mend\u001b[0m \u001b[0;34m=\u001b[0m \u001b[0mself\u001b[0m\u001b[0;34m.\u001b[0m\u001b[0mraw_decode\u001b[0m\u001b[0;34m(\u001b[0m\u001b[0ms\u001b[0m\u001b[0;34m,\u001b[0m \u001b[0midx\u001b[0m\u001b[0;34m=\u001b[0m\u001b[0m_w\u001b[0m\u001b[0;34m(\u001b[0m\u001b[0ms\u001b[0m\u001b[0;34m,\u001b[0m \u001b[0;36m0\u001b[0m\u001b[0;34m)\u001b[0m\u001b[0;34m.\u001b[0m\u001b[0mend\u001b[0m\u001b[0;34m(\u001b[0m\u001b[0;34m)\u001b[0m\u001b[0;34m)\u001b[0m\u001b[0;34m\u001b[0m\u001b[0;34m\u001b[0m\u001b[0m\n\u001b[0m\u001b[1;32m    338\u001b[0m         \u001b[0mend\u001b[0m \u001b[0;34m=\u001b[0m \u001b[0m_w\u001b[0m\u001b[0;34m(\u001b[0m\u001b[0ms\u001b[0m\u001b[0;34m,\u001b[0m \u001b[0mend\u001b[0m\u001b[0;34m)\u001b[0m\u001b[0;34m.\u001b[0m\u001b[0mend\u001b[0m\u001b[0;34m(\u001b[0m\u001b[0;34m)\u001b[0m\u001b[0;34m\u001b[0m\u001b[0;34m\u001b[0m\u001b[0m\n\u001b[1;32m    339\u001b[0m         \u001b[0;32mif\u001b[0m \u001b[0mend\u001b[0m \u001b[0;34m!=\u001b[0m \u001b[0mlen\u001b[0m\u001b[0;34m(\u001b[0m\u001b[0ms\u001b[0m\u001b[0;34m)\u001b[0m\u001b[0;34m:\u001b[0m\u001b[0;34m\u001b[0m\u001b[0;34m\u001b[0m\u001b[0m\n",
      "\u001b[0;32m/usr/local/Cellar/python@3.9/3.9.7_1/Frameworks/Python.framework/Versions/3.9/lib/python3.9/json/decoder.py\u001b[0m in \u001b[0;36mraw_decode\u001b[0;34m(self, s, idx)\u001b[0m\n\u001b[1;32m    353\u001b[0m             \u001b[0mobj\u001b[0m\u001b[0;34m,\u001b[0m \u001b[0mend\u001b[0m \u001b[0;34m=\u001b[0m \u001b[0mself\u001b[0m\u001b[0;34m.\u001b[0m\u001b[0mscan_once\u001b[0m\u001b[0;34m(\u001b[0m\u001b[0ms\u001b[0m\u001b[0;34m,\u001b[0m \u001b[0midx\u001b[0m\u001b[0;34m)\u001b[0m\u001b[0;34m\u001b[0m\u001b[0;34m\u001b[0m\u001b[0m\n\u001b[1;32m    354\u001b[0m         \u001b[0;32mexcept\u001b[0m \u001b[0mStopIteration\u001b[0m \u001b[0;32mas\u001b[0m \u001b[0merr\u001b[0m\u001b[0;34m:\u001b[0m\u001b[0;34m\u001b[0m\u001b[0;34m\u001b[0m\u001b[0m\n\u001b[0;32m--> 355\u001b[0;31m             \u001b[0;32mraise\u001b[0m \u001b[0mJSONDecodeError\u001b[0m\u001b[0;34m(\u001b[0m\u001b[0;34m\"Expecting value\"\u001b[0m\u001b[0;34m,\u001b[0m \u001b[0ms\u001b[0m\u001b[0;34m,\u001b[0m \u001b[0merr\u001b[0m\u001b[0;34m.\u001b[0m\u001b[0mvalue\u001b[0m\u001b[0;34m)\u001b[0m \u001b[0;32mfrom\u001b[0m \u001b[0;32mNone\u001b[0m\u001b[0;34m\u001b[0m\u001b[0;34m\u001b[0m\u001b[0m\n\u001b[0m\u001b[1;32m    356\u001b[0m         \u001b[0;32mreturn\u001b[0m \u001b[0mobj\u001b[0m\u001b[0;34m,\u001b[0m \u001b[0mend\u001b[0m\u001b[0;34m\u001b[0m\u001b[0;34m\u001b[0m\u001b[0m\n",
      "\u001b[0;31mJSONDecodeError\u001b[0m: Expecting value: line 1 column 1 (char 0)"
     ]
    }
   ],
   "source": [
    "from requests import request\n",
    "import json\n",
    "from pandas.io.json import json_normalize\n",
    "import pandas as pd\n",
    "\n",
    "r=request(url='http://chaoss.tv/api/unstable/repos/29290/issues-closed-resolution-duration', method='get')\n",
    "print(r)\n",
    "e = r.json()\n",
    "print(e)\n",
    "data=[]\n",
    "for response in e: \n",
    "  if ( response.get('diffdate')> 79.0 ):\n",
    "    data.append({\n",
    "        \"repo_id\": response.get('repo_id'),\n",
    "        \"repo_name\": response.get('repo_name'),\n",
    "        \"diffdate\": response.get('diffdate'),\n",
    "        \"gh_issue_number\": response.get('gh_issue_number'),\n",
    "        # \"closed_at\": response.get('closed_at'),\n",
    "        # \"created_at\": response.get('created_at'),\n",
    "        \n",
    "    })\n",
    "df=pd.DataFrame(data)\n",
    "df.sort_values(by=['diffdate'], inplace=True, ascending=False)\n",
    "print(df)"
   ]
  },
  {
   "cell_type": "markdown",
   "id": "fd274e08",
   "metadata": {},
   "source": [
    "### Issue Age\n"
   ]
  },
  {
   "cell_type": "code",
   "execution_count": null,
   "id": "2d6b3da8",
   "metadata": {
    "colab": {
     "base_uri": "https://localhost:8080/",
     "height": 518
    },
    "id": "CIwQs6Ya-bXL",
    "outputId": "e109aae7-19ab-46f5-dac5-9eb6e6f8e143"
   },
   "outputs": [],
   "source": [
    "from requests import request\n",
    "import json\n",
    "from pandas.io.json import json_normalize\n",
    "import pandas as pd\n",
    "import matplotlib.pyplot as plt\n",
    "from datetime import datetime\n",
    "# import pandasql as ps\n",
    "from numpy import count_nonzero\n",
    "import seaborn as sns\n",
    "r=request(url='http://chaoss.tv/api/unstable/repos/29290/issues-open-age', method='get')\n",
    "e = r.json()\n",
    "df=pd.DataFrame(e)\n",
    "# print(df) \n",
    "# df['date'] = pd.DatetimeIndex(df['date']).month\n",
    "df['date'] = pd.to_datetime(df.date, format='%Y-%m-%d %H:%M:%S')\n",
    "df['date'] = df['date'].dt.strftime('%m-%Y')\n",
    "ax = sns.barplot(x=\"date\", y=\"open_date\", data=df)\n",
    "ax.set(xlabel=\"Month/year\", ylabel = \"days(total open issue) \", title = \"Issue age  \")\n",
    "sns.set(rc = {'figure.figsize':(15,15)})\n",
    "plt.ylim(10, 460)\n"
   ]
  },
  {
   "cell_type": "markdown",
   "id": "09865f4a",
   "metadata": {},
   "source": [
    "### Issue Response Time"
   ]
  },
  {
   "cell_type": "code",
   "execution_count": null,
   "id": "5b9aec37",
   "metadata": {
    "colab": {
     "base_uri": "https://localhost:8080/",
     "height": 1000
    },
    "id": "ls85Jkjr0Qb1",
    "outputId": "2dabe67b-a647-46b5-ec14-1bad6d128316"
   },
   "outputs": [],
   "source": [
    "import psycopg2\n",
    "import pandas as pd \n",
    "import sqlalchemy as salc\n",
    "import numpy as np\n",
    "import seaborn as sns\n",
    "import matplotlib.pyplot as plt\n",
    "import warnings\n",
    "import datetime\n",
    "import json\n",
    "\n",
    "\n",
    "warnings.filterwarnings('ignore')\n",
    "\n",
    "with open(\"../../comm_cage.json\") as config_file:\n",
    "    config = json.load(config_file)\n",
    "\n",
    "database_connection_string = 'postgresql+psycopg2://{}:{}@{}:{}/{}'.format(config['user'], config['password'], config['host'], config['port'], config['database'])\n",
    "\n",
    "dbschema='augur_data'\n",
    "engine = salc.create_engine(\n",
    "    database_connection_string,\n",
    "    connect_args={'options': '-csearch_path={}'.format(dbschema)})\n",
    "\n",
    "\n",
    "repolist = pd.DataFrame() \n",
    "repo_query = salc.sql.text(f\"\"\"select  f.created_at, avg(f.first_response) from \n",
    "(\n",
    "select e.repo_id, date_trunc('month',e.created_at) as created_at, e.first_response  as first_response \n",
    "from \n",
    "(\n",
    "SELECT\n",
    "\td.issue_id,\n",
    "\td.repo_id,\n",
    "\tgh_issue_number,\n",
    "\td.created_at as created_at,\n",
    "\tMIN ( first_response ) AS first_response\n",
    "FROM\n",
    "\t(\n",
    "\tSELECT\n",
    "\t\tissue_events.created_at as issue_created,\n",
    "\t\tissues.issue_id,\n",
    "\t\tissues.repo_id,\n",
    "\t\tissues.created_at as created_at,\n",
    "\t\tissues.gh_issue_number AS gh_issue_number,\n",
    "\t\tSUM ( issue_events.created_at - issues.created_at ) AS first_response \n",
    "\tFROM\n",
    "\t\tissue_events,\n",
    "\t\tissues\n",
    "\t\t--( SELECT MIN ( issue_events.created_at ) AS created FROM issue_events ) C \n",
    "\tWHERE\n",
    "\t\tissue_events.issue_id = issues.issue_id \n",
    "\t\tAND issues.closed_at IS NOT NULL \n",
    "\t\tAND issues.pull_request_id IS NULL \n",
    "\tGROUP BY\n",
    "\t\tissue_events.event_id,\n",
    "\t\tissues.issue_id,\n",
    "\t\tissues.created_at,\n",
    "\t\tissues.gh_issue_number \n",
    "\tORDER BY\n",
    "\t\tgh_issue_number,\n",
    "\t\tissues.created_at\n",
    "\t) d \n",
    "WHERE\n",
    "\trepo_id = 29290 \n",
    "GROUP BY\n",
    "\td.issue_id,\n",
    "\td.repo_id,\n",
    "\td.gh_issue_number, ---,\n",
    "\td.created_at \n",
    "ORDER BY\n",
    "\tfirst_response DESC\n",
    "\t) e \n",
    "\tgroup by \n",
    "\t e.repo_id, e.created_at, e.first_response \n",
    "\t ) f \n",
    " group by  f.created_at \n",
    "\n",
    "\"\"\")\n",
    "\n",
    "repolist = pd.read_sql(repo_query, con=engine);\n",
    "#display(repolist)\n",
    "repolist['avg'] = repolist['avg'].dt.days;\n",
    "fig, ax = plt.subplots(figsize = (15,6));  \n",
    "fig = sns.barplot(x = \"created_at\", y = \"avg\", data = repolist,ci = None, ax=ax);\n",
    "ax.set(xlabel=\"Month/year\", ylabel = \"days(total open issue) \", title = \"Issue Response Time\");\n",
    "x_dates = repolist['created_at'].dt.strftime('%Y-%m').sort_values().unique();\n",
    "ax.set_xticklabels(labels=x_dates, rotation=45, ha='right');\n"
   ]
  },
  {
   "cell_type": "markdown",
   "id": "cd4b0d39",
   "metadata": {},
   "source": [
    "### Issue Time to First Response"
   ]
  },
  {
   "cell_type": "code",
   "execution_count": null,
   "id": "c26f4532",
   "metadata": {},
   "outputs": [],
   "source": [
    "from requests import request\n",
    "import json\n",
    "from pandas.io.json import json_normalize\n",
    "import pandas as pd\n",
    "import matplotlib.pyplot as plt\n",
    "from datetime import datetime\n",
    "from numpy import count_nonzero\n",
    "import seaborn as sns\n",
    "r=request(url='http://chaoss.tv/api/unstable/repos/29290/issues-closed-resolution-duration?period=month', method='get');\n",
    "e = r.json();\n",
    "df=pd.DataFrame(e);\n",
    "created= df['created_at'];\n",
    "df[['created_at','diffdate']];\n",
    "created = pd.to_datetime(df.created_at, format='%Y-%m-%d %H:%M:%S');\n",
    "fig, ax = plt.subplots(figsize = (15,6));\n",
    "fig = sns.barplot(x = \"created_at\", y = \"diffdate\", data = df ,ci = None, ax=ax);\n",
    "ax.set(xlabel=\"Month/year\", ylabel = \"closed duration (days)\", title = \"Time to First Response\");\n",
    "x_dates = created.dt.strftime('%Y-%m').sort_values().unique();\n",
    "ax.set_xticklabels(labels=x_dates, rotation=45, ha='right');\n",
    "\n",
    "\n",
    "\n"
   ]
  },
  {
   "cell_type": "markdown",
   "id": "c07e003c",
   "metadata": {},
   "source": [
    "## Community Culture"
   ]
  },
  {
   "cell_type": "code",
   "execution_count": null,
   "id": "26f70130",
   "metadata": {},
   "outputs": [],
   "source": []
  },
  {
   "cell_type": "markdown",
   "id": "24d0753a",
   "metadata": {},
   "source": [
    "\n",
    "### Code of Conduct"
   ]
  },
  {
   "cell_type": "code",
   "execution_count": null,
   "id": "533f83df",
   "metadata": {},
   "outputs": [],
   "source": [
    "import psycopg2\n",
    "import pandas as pd \n",
    "import sqlalchemy as salc\n",
    "import numpy as np\n",
    "import seaborn as sns\n",
    "import matplotlib.pyplot as plt\n",
    "import warnings\n",
    "import datetime\n",
    "import json\n",
    "\n",
    "\n",
    "warnings.filterwarnings('ignore')\n",
    "\n",
    "with open(\"Config.json\") as config_file:\n",
    "    config = json.load(config_file)\n",
    "\n",
    "database_connection_string = 'postgresql+psycopg2://{}:{}@{}:{}/{}'.format(config['user'], config['password'], config['host'], config['port'], config['database'])\n",
    "\n",
    "dbschema='augur_data'\n",
    "engine = salc.create_engine(\n",
    "    database_connection_string,\n",
    "    connect_args={'options': '-csearch_path={}'.format(dbschema)})\n",
    "\n",
    "\n",
    "repolist = pd.DataFrame() \n",
    "coc = pd.DataFrame() \n",
    "coc_query = salc.sql.text(f\"\"\" select \n",
    "code_of_conduct_file , max(data_collection_date) as date from repo_info\n",
    "where repo_id = 29290\n",
    "group by code_of_conduct_file\n",
    "\"\"\")\n",
    "\n",
    "coc_data = pd.read_sql(coc_query, con=engine);\n",
    "print(coc_data)"
   ]
  },
  {
   "cell_type": "markdown",
   "id": "5fe4b240",
   "metadata": {},
   "source": [
    "### Inclusive Leadership"
   ]
  },
  {
   "cell_type": "code",
   "execution_count": null,
   "id": "59392598",
   "metadata": {},
   "outputs": [],
   "source": []
  },
  {
   "cell_type": "markdown",
   "id": "250ff9d1",
   "metadata": {},
   "source": [
    "## Licensing"
   ]
  },
  {
   "cell_type": "markdown",
   "id": "7bb7c4d8",
   "metadata": {},
   "source": [
    "### License Covered"
   ]
  },
  {
   "cell_type": "code",
   "execution_count": null,
   "id": "72c74315",
   "metadata": {},
   "outputs": [],
   "source": [
    "Image(filename='license.jpg', width=300) "
   ]
  },
  {
   "cell_type": "markdown",
   "id": "614c98a2",
   "metadata": {},
   "source": [
    "### Licenses Declared"
   ]
  },
  {
   "cell_type": "code",
   "execution_count": null,
   "id": "0adb84c3",
   "metadata": {},
   "outputs": [],
   "source": [
    "# Augur Endpoint. We need to parse the data. "
   ]
  },
  {
   "cell_type": "markdown",
   "id": "61e5a9a6",
   "metadata": {},
   "source": [
    "## Stability"
   ]
  },
  {
   "cell_type": "markdown",
   "id": "b985e336",
   "metadata": {},
   "source": [
    "### CII Best Practices Badging Status"
   ]
  },
  {
   "cell_type": "code",
   "execution_count": null,
   "id": "c7332a33",
   "metadata": {},
   "outputs": [],
   "source": [
    "from termcolor import colored\n",
    "r = requests.get('http://chaoss.tv/api/unstable/repo-groups/10/repos/29290/cii-best-practices-badge')\n",
    "r.json()\n",
    "#results = r.json()\n"
   ]
  },
  {
   "cell_type": "markdown",
   "id": "2a144b8d",
   "metadata": {},
   "source": [
    "### Test Coverage"
   ]
  },
  {
   "cell_type": "code",
   "execution_count": null,
   "id": "d499f03d",
   "metadata": {},
   "outputs": [],
   "source": []
  },
  {
   "cell_type": "markdown",
   "id": "1fa91080",
   "metadata": {},
   "source": [
    "### Bus Factor"
   ]
  },
  {
   "cell_type": "code",
   "execution_count": null,
   "id": "161b8af7",
   "metadata": {},
   "outputs": [],
   "source": []
  },
  {
   "cell_type": "markdown",
   "id": "90f09d97",
   "metadata": {},
   "source": [
    "### Committers"
   ]
  },
  {
   "cell_type": "code",
   "execution_count": null,
   "id": "6613488e",
   "metadata": {},
   "outputs": [],
   "source": [
    "Image(filename='committers.jpg', width=600) "
   ]
  },
  {
   "cell_type": "markdown",
   "id": "6461d0fb",
   "metadata": {
    "id": "7oH9_szw51zC"
   },
   "source": [
    "## Code"
   ]
  },
  {
   "cell_type": "markdown",
   "id": "d19ea902",
   "metadata": {},
   "source": [
    "### New Contributors\n"
   ]
  },
  {
   "cell_type": "code",
   "execution_count": null,
   "id": "e39a04cd",
   "metadata": {
    "id": "9SGfGw4850W4"
   },
   "outputs": [],
   "source": [
    "url = \"http://chaoss.tv/api/unstable/contributor_reports/new_contributors_stacked_bar/?repo_id=29290\"\n",
    "payload = \"\"\n",
    "querystring = {\n",
    "        \"api-version\":\"1.0\",\n",
    "        \"format\":\"png\",\n",
    "        \"layer\":\"basic\"\n",
    "    }\n",
    "headers = {\n",
    "    'cache-control': \"no-cache\"\n",
    "    }\n",
    "\n",
    "r = requests.get(url,data=payload, headers=headers, params=querystring, stream=all)\n",
    "\n",
    "display(Image(r.content))"
   ]
  },
  {
   "cell_type": "code",
   "execution_count": null,
   "id": "343b29f2",
   "metadata": {},
   "outputs": [],
   "source": [
    "plt.style.use('seaborn')\n",
    "r = requests.get('http://chaoss.tv/api/unstable/repos/29290/contributors-new')\n",
    "data =r.json()\n",
    "e = r.json()\n",
    "e \n",
    "df=pd.DataFrame(e)\n",
    "# df['date'] = pd.to_datetime(df['date'])\n",
    "\n",
    "df['date'] = pd.DatetimeIndex(df['date']).month\n",
    "df.sort_values('date', inplace=True)\n",
    "\n",
    "date = df['date']\n",
    "# print(df)\n",
    "new_contributors = df['new_contributors']\n",
    "fig = plt.figure(figsize = (10, 7\n",
    "                            ))\n",
    "\n",
    "plt.bar(date, new_contributors, color ='maroon',\n",
    "        width = 0.4)\n",
    "plt.title('New Contributors')\n",
    "plt.xlabel('month')\n",
    "plt.ylabel('new_contributors')\n",
    "plt.ylim([0, 4])\n",
    "\n",
    "\n",
    "plt.show()\n"
   ]
  },
  {
   "cell_type": "code",
   "execution_count": null,
   "id": "3d7caaf2",
   "metadata": {},
   "outputs": [],
   "source": []
  },
  {
   "cell_type": "markdown",
   "id": "823586d5",
   "metadata": {},
   "source": [
    "### Change Request Acceptance Rates"
   ]
  },
  {
   "cell_type": "code",
   "execution_count": null,
   "id": "e41b006b",
   "metadata": {
    "id": "GpqlvrXy5xiL"
   },
   "outputs": [],
   "source": [
    "url = \"http://chaoss.tv/api/unstable/pull_request_reports/PR_counts_by_merged_status?repo_id=29290\"\n",
    "payload = \"\"\n",
    "querystring = {\n",
    "        \"api-version\":\"1.0\",\n",
    "        \"format\":\"png\",\n",
    "        \"layer\":\"basic\"\n",
    "    }\n",
    "headers = {\n",
    "    'cache-control': \"no-cache\"\n",
    "    }\n",
    "\n",
    "r = requests.get(url,data=payload, headers=headers, params=querystring, stream=all)\n",
    "\n",
    "display(Image(r.content))"
   ]
  },
  {
   "cell_type": "code",
   "execution_count": null,
   "id": "8b6e44d0",
   "metadata": {},
   "outputs": [],
   "source": [
    "plt.style.use('seaborn')\n",
    "\n",
    "r=request(url='http://chaoss.tv/api/unstable/repos/29290/pull-request-acceptance-rate', method='get')\n",
    "\n",
    "e = r.json()\n",
    "e \n",
    "df=pd.DataFrame(e)\n",
    "# print(df)\n",
    "\n",
    "df['date'] = pd.to_datetime(df['date'])\n",
    "# df['Month'] = pd.DatetimeIndex(df['Month']).month\n",
    "df.sort_values('date', inplace=True)\n",
    "\n",
    "date = df['date']\n",
    "rate = df['rate']\n",
    "\n",
    "plt.plot_date(date, rate, linestyle='solid')\n",
    "\n",
    "plt.gcf().autofmt_xdate()\n",
    "\n",
    "plt.title('pull-request acceptance rate')\n",
    "plt.xlabel('Date')\n",
    "plt.ylabel('Rate')\n",
    "\n",
    "plt.tight_layout()\n",
    "\n",
    "plt.show()"
   ]
  },
  {
   "cell_type": "code",
   "execution_count": null,
   "id": "9ccf5992",
   "metadata": {
    "id": "xIeyGFYz5v-9"
   },
   "outputs": [],
   "source": []
  },
  {
   "cell_type": "code",
   "execution_count": null,
   "id": "eae5fca0",
   "metadata": {
    "id": "wah6F2i95t92"
   },
   "outputs": [],
   "source": []
  },
  {
   "cell_type": "code",
   "execution_count": null,
   "id": "5b2a22f5",
   "metadata": {
    "id": "LA_Ys4G05r7e"
   },
   "outputs": [],
   "source": []
  },
  {
   "cell_type": "code",
   "execution_count": null,
   "id": "eb2596ac",
   "metadata": {
    "id": "4vgkCgZ65pml"
   },
   "outputs": [],
   "source": []
  },
  {
   "cell_type": "code",
   "execution_count": null,
   "id": "8bd406ed",
   "metadata": {
    "id": "zazY2jNs5hpA"
   },
   "outputs": [],
   "source": []
  },
  {
   "cell_type": "code",
   "execution_count": null,
   "id": "d96ad421",
   "metadata": {
    "id": "2VB7G4to5eJr"
   },
   "outputs": [],
   "source": []
  },
  {
   "cell_type": "code",
   "execution_count": null,
   "id": "2945bbbf",
   "metadata": {
    "id": "SRD3J4RK5aSR"
   },
   "outputs": [],
   "source": []
  },
  {
   "cell_type": "code",
   "execution_count": null,
   "id": "80228e7f",
   "metadata": {
    "id": "olgkXxw85XiJ"
   },
   "outputs": [],
   "source": []
  },
  {
   "cell_type": "code",
   "execution_count": null,
   "id": "3726e127",
   "metadata": {
    "id": "jSIpdnz15VwP"
   },
   "outputs": [],
   "source": []
  },
  {
   "cell_type": "code",
   "execution_count": null,
   "id": "525d00d6",
   "metadata": {
    "id": "q0gMAnrf5UP_"
   },
   "outputs": [],
   "source": []
  },
  {
   "cell_type": "code",
   "execution_count": null,
   "id": "0ffbdb58",
   "metadata": {
    "id": "eZCdvJ9w98pi"
   },
   "outputs": [],
   "source": []
  }
 ],
 "metadata": {
  "colab": {
   "collapsed_sections": [],
   "name": "Analysis.ipynb",
   "provenance": []
  },
  "kernelspec": {
   "display_name": "Python 3 (ipykernel)",
   "language": "python",
   "name": "python3"
  },
  "language_info": {
   "codemirror_mode": {
    "name": "ipython",
    "version": 3
   },
   "file_extension": ".py",
   "mimetype": "text/x-python",
   "name": "python",
   "nbconvert_exporter": "python",
   "pygments_lexer": "ipython3",
   "version": "3.9.7"
  }
 },
 "nbformat": 4,
 "nbformat_minor": 5
}
